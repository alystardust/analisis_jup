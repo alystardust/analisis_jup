{
 "cells": [
  {
   "cell_type": "code",
   "execution_count": 131,
   "metadata": {},
   "outputs": [],
   "source": [
    "# Ejemplos de estadistica descriptiva con python\n",
    "\n",
    "import numpy as np # importando numpy\n",
    "from scipy import stats # importando scipy.stats\n",
    "import pandas as pd # importando pandas\n"
   ]
  },
  {
   "cell_type": "code",
   "execution_count": 132,
   "metadata": {},
   "outputs": [],
   "source": [
    "df = pd.read_csv('CUANTITATIVO.csv', sep=';')"
   ]
  },
  {
   "cell_type": "code",
   "execution_count": 133,
   "metadata": {},
   "outputs": [
    {
     "data": {
      "text/html": [
       "<div>\n",
       "<style scoped>\n",
       "    .dataframe tbody tr th:only-of-type {\n",
       "        vertical-align: middle;\n",
       "    }\n",
       "\n",
       "    .dataframe tbody tr th {\n",
       "        vertical-align: top;\n",
       "    }\n",
       "\n",
       "    .dataframe thead th {\n",
       "        text-align: right;\n",
       "    }\n",
       "</style>\n",
       "<table border=\"1\" class=\"dataframe\">\n",
       "  <thead>\n",
       "    <tr style=\"text-align: right;\">\n",
       "      <th></th>\n",
       "      <th>Edad</th>\n",
       "      <th>Años Escolaridad</th>\n",
       "      <th>EG (decimal)</th>\n",
       "      <th>Paridad</th>\n",
       "      <th>Peso</th>\n",
       "      <th>Talla</th>\n",
       "      <th>Indice Ponderal</th>\n",
       "      <th>CC</th>\n",
       "      <th>APGAR 1</th>\n",
       "      <th>APGAR 2</th>\n",
       "      <th>APGAR 3</th>\n",
       "      <th>EGP</th>\n",
       "      <th>Complicaciones</th>\n",
       "    </tr>\n",
       "  </thead>\n",
       "  <tbody>\n",
       "    <tr>\n",
       "      <th>0</th>\n",
       "      <td>34.0</td>\n",
       "      <td>6</td>\n",
       "      <td>41,14</td>\n",
       "      <td>4.0</td>\n",
       "      <td>4370.0</td>\n",
       "      <td>52</td>\n",
       "      <td>3,10793127</td>\n",
       "      <td>35</td>\n",
       "      <td>9.0</td>\n",
       "      <td>9.0</td>\n",
       "      <td>NaN</td>\n",
       "      <td>41.0</td>\n",
       "      <td>0</td>\n",
       "    </tr>\n",
       "    <tr>\n",
       "      <th>1</th>\n",
       "      <td>19.0</td>\n",
       "      <td>8</td>\n",
       "      <td>39,57</td>\n",
       "      <td>1.0</td>\n",
       "      <td>3285.0</td>\n",
       "      <td>51</td>\n",
       "      <td>2,476423095</td>\n",
       "      <td>33</td>\n",
       "      <td>9.0</td>\n",
       "      <td>9.0</td>\n",
       "      <td>NaN</td>\n",
       "      <td>39.0</td>\n",
       "      <td>0</td>\n",
       "    </tr>\n",
       "    <tr>\n",
       "      <th>2</th>\n",
       "      <td>19.0</td>\n",
       "      <td>10</td>\n",
       "      <td>41,14</td>\n",
       "      <td>0.0</td>\n",
       "      <td>3145.0</td>\n",
       "      <td>48</td>\n",
       "      <td>2,843786169</td>\n",
       "      <td>34</td>\n",
       "      <td>8.0</td>\n",
       "      <td>9.0</td>\n",
       "      <td>NaN</td>\n",
       "      <td>41.0</td>\n",
       "      <td>2</td>\n",
       "    </tr>\n",
       "    <tr>\n",
       "      <th>3</th>\n",
       "      <td>32.0</td>\n",
       "      <td>17</td>\n",
       "      <td>38,43</td>\n",
       "      <td>0.0</td>\n",
       "      <td>3080.0</td>\n",
       "      <td>50</td>\n",
       "      <td>2,464</td>\n",
       "      <td>33,3</td>\n",
       "      <td>9.0</td>\n",
       "      <td>9.0</td>\n",
       "      <td>NaN</td>\n",
       "      <td>38.0</td>\n",
       "      <td>1</td>\n",
       "    </tr>\n",
       "    <tr>\n",
       "      <th>4</th>\n",
       "      <td>28.0</td>\n",
       "      <td>12</td>\n",
       "      <td>37,71</td>\n",
       "      <td>2.0</td>\n",
       "      <td>3125.0</td>\n",
       "      <td>46,5</td>\n",
       "      <td>3,108072659</td>\n",
       "      <td>34</td>\n",
       "      <td>9.0</td>\n",
       "      <td>9.0</td>\n",
       "      <td>NaN</td>\n",
       "      <td>37.0</td>\n",
       "      <td>0</td>\n",
       "    </tr>\n",
       "    <tr>\n",
       "      <th>...</th>\n",
       "      <td>...</td>\n",
       "      <td>...</td>\n",
       "      <td>...</td>\n",
       "      <td>...</td>\n",
       "      <td>...</td>\n",
       "      <td>...</td>\n",
       "      <td>...</td>\n",
       "      <td>...</td>\n",
       "      <td>...</td>\n",
       "      <td>...</td>\n",
       "      <td>...</td>\n",
       "      <td>...</td>\n",
       "      <td>...</td>\n",
       "    </tr>\n",
       "    <tr>\n",
       "      <th>2311</th>\n",
       "      <td>42.0</td>\n",
       "      <td>8</td>\n",
       "      <td>32,57</td>\n",
       "      <td>2.0</td>\n",
       "      <td>2030.0</td>\n",
       "      <td>45</td>\n",
       "      <td>2,227709191</td>\n",
       "      <td>29</td>\n",
       "      <td>6.0</td>\n",
       "      <td>9.0</td>\n",
       "      <td>NaN</td>\n",
       "      <td>33.0</td>\n",
       "      <td>2</td>\n",
       "    </tr>\n",
       "    <tr>\n",
       "      <th>2312</th>\n",
       "      <td>23.0</td>\n",
       "      <td>14</td>\n",
       "      <td>37,71</td>\n",
       "      <td>0.0</td>\n",
       "      <td>3245.0</td>\n",
       "      <td>51</td>\n",
       "      <td>2,44626878</td>\n",
       "      <td>34</td>\n",
       "      <td>9.0</td>\n",
       "      <td>9.0</td>\n",
       "      <td>NaN</td>\n",
       "      <td>38.0</td>\n",
       "      <td>1</td>\n",
       "    </tr>\n",
       "    <tr>\n",
       "      <th>2313</th>\n",
       "      <td>32.0</td>\n",
       "      <td>17</td>\n",
       "      <td>39,29</td>\n",
       "      <td>0.0</td>\n",
       "      <td>3740.0</td>\n",
       "      <td>51</td>\n",
       "      <td>2,819428425</td>\n",
       "      <td>36</td>\n",
       "      <td>9.0</td>\n",
       "      <td>9.0</td>\n",
       "      <td>NaN</td>\n",
       "      <td>39.0</td>\n",
       "      <td>0</td>\n",
       "    </tr>\n",
       "    <tr>\n",
       "      <th>2314</th>\n",
       "      <td>21.0</td>\n",
       "      <td>12</td>\n",
       "      <td>39,57</td>\n",
       "      <td>0.0</td>\n",
       "      <td>3185.0</td>\n",
       "      <td>49,5</td>\n",
       "      <td>2,625994668</td>\n",
       "      <td>34</td>\n",
       "      <td>9.0</td>\n",
       "      <td>9.0</td>\n",
       "      <td>NaN</td>\n",
       "      <td>39.0</td>\n",
       "      <td>0</td>\n",
       "    </tr>\n",
       "    <tr>\n",
       "      <th>2315</th>\n",
       "      <td>26.0</td>\n",
       "      <td>12</td>\n",
       "      <td>35,14</td>\n",
       "      <td>2.0</td>\n",
       "      <td>2365.0</td>\n",
       "      <td>42,5</td>\n",
       "      <td>3,080806025</td>\n",
       "      <td>34</td>\n",
       "      <td>9.0</td>\n",
       "      <td>9.0</td>\n",
       "      <td>NaN</td>\n",
       "      <td>35.0</td>\n",
       "      <td>3</td>\n",
       "    </tr>\n",
       "  </tbody>\n",
       "</table>\n",
       "<p>2316 rows × 13 columns</p>\n",
       "</div>"
      ],
      "text/plain": [
       "      Edad  Años Escolaridad EG (decimal)  Paridad    Peso Talla  \\\n",
       "0     34.0                 6        41,14      4.0  4370.0    52   \n",
       "1     19.0                 8        39,57      1.0  3285.0    51   \n",
       "2     19.0                10        41,14      0.0  3145.0    48   \n",
       "3     32.0                17        38,43      0.0  3080.0    50   \n",
       "4     28.0                12        37,71      2.0  3125.0  46,5   \n",
       "...    ...               ...          ...      ...     ...   ...   \n",
       "2311  42.0                 8        32,57      2.0  2030.0    45   \n",
       "2312  23.0                14        37,71      0.0  3245.0    51   \n",
       "2313  32.0                17        39,29      0.0  3740.0    51   \n",
       "2314  21.0                12        39,57      0.0  3185.0  49,5   \n",
       "2315  26.0                12        35,14      2.0  2365.0  42,5   \n",
       "\n",
       "     Indice Ponderal    CC  APGAR 1  APGAR 2  APGAR 3   EGP  Complicaciones  \n",
       "0         3,10793127    35      9.0      9.0      NaN  41.0               0  \n",
       "1        2,476423095    33      9.0      9.0      NaN  39.0               0  \n",
       "2        2,843786169    34      8.0      9.0      NaN  41.0               2  \n",
       "3              2,464  33,3      9.0      9.0      NaN  38.0               1  \n",
       "4        3,108072659    34      9.0      9.0      NaN  37.0               0  \n",
       "...              ...   ...      ...      ...      ...   ...             ...  \n",
       "2311     2,227709191    29      6.0      9.0      NaN  33.0               2  \n",
       "2312      2,44626878    34      9.0      9.0      NaN  38.0               1  \n",
       "2313     2,819428425    36      9.0      9.0      NaN  39.0               0  \n",
       "2314     2,625994668    34      9.0      9.0      NaN  39.0               0  \n",
       "2315     3,080806025    34      9.0      9.0      NaN  35.0               3  \n",
       "\n",
       "[2316 rows x 13 columns]"
      ]
     },
     "execution_count": 133,
     "metadata": {},
     "output_type": "execute_result"
    }
   ],
   "source": [
    "df"
   ]
  },
  {
   "cell_type": "code",
   "execution_count": 134,
   "metadata": {},
   "outputs": [
    {
     "data": {
      "text/plain": [
       "Edad                  26.806577\n",
       "Años Escolaridad      12.134715\n",
       "Paridad                0.904021\n",
       "Peso                3280.329732\n",
       "APGAR 1                8.590476\n",
       "APGAR 2                8.886531\n",
       "APGAR 3                8.250000\n",
       "EGP                   38.235320\n",
       "Complicaciones         1.606218\n",
       "dtype: float64"
      ]
     },
     "execution_count": 134,
     "metadata": {},
     "output_type": "execute_result"
    }
   ],
   "source": [
    "# media arítmetica\n",
    "df.mean() # Calcula la media aritmetica de"
   ]
  },
  {
   "cell_type": "code",
   "execution_count": 135,
   "metadata": {},
   "outputs": [
    {
     "data": {
      "text/plain": [
       "Edad                  26.806577\n",
       "Años Escolaridad      12.134715\n",
       "Paridad                0.904021\n",
       "Peso                3280.329732\n",
       "APGAR 1                8.590476\n",
       "APGAR 2                8.886531\n",
       "APGAR 3                8.250000\n",
       "EGP                   38.235320\n",
       "Complicaciones         1.606218\n",
       "dtype: float64"
      ]
     },
     "execution_count": 135,
     "metadata": {},
     "output_type": "execute_result"
    }
   ],
   "source": [
    "df.mean(axis=0) # media aritmetica de cada columna"
   ]
  },
  {
   "cell_type": "code",
   "execution_count": 136,
   "metadata": {},
   "outputs": [
    {
     "data": {
      "text/plain": [
       "Edad                  26.806577\n",
       "Años Escolaridad      12.134715\n",
       "Paridad                0.904021\n",
       "Peso                3280.329732\n",
       "APGAR 1                8.590476\n",
       "APGAR 2                8.886531\n",
       "APGAR 3                8.250000\n",
       "EGP                   38.235320\n",
       "Complicaciones         1.606218\n",
       "dtype: float64"
      ]
     },
     "execution_count": 136,
     "metadata": {},
     "output_type": "execute_result"
    }
   ],
   "source": [
    "df.mean(axis=0) # media aritmetica de cada columna"
   ]
  },
  {
   "cell_type": "code",
   "execution_count": 137,
   "metadata": {},
   "outputs": [
    {
     "data": {
      "text/plain": [
       "Edad                  26.0\n",
       "Años Escolaridad      12.0\n",
       "Paridad                1.0\n",
       "Peso                3330.0\n",
       "APGAR 1                9.0\n",
       "APGAR 2                9.0\n",
       "APGAR 3                9.0\n",
       "EGP                   38.0\n",
       "Complicaciones         1.0\n",
       "dtype: float64"
      ]
     },
     "execution_count": 137,
     "metadata": {},
     "output_type": "execute_result"
    }
   ],
   "source": [
    "# mediana\n",
    "df.median() # Calcula la mediana"
   ]
  },
  {
   "cell_type": "code",
   "execution_count": 138,
   "metadata": {},
   "outputs": [
    {
     "data": {
      "text/plain": [
       "Edad                  26.0\n",
       "Años Escolaridad      12.0\n",
       "Paridad                1.0\n",
       "Peso                3330.0\n",
       "APGAR 1                9.0\n",
       "APGAR 2                9.0\n",
       "APGAR 3                9.0\n",
       "EGP                   38.0\n",
       "Complicaciones         1.0\n",
       "dtype: float64"
      ]
     },
     "execution_count": 138,
     "metadata": {},
     "output_type": "execute_result"
    }
   ],
   "source": [
    "df.median(axis=0) # mediana de cada columna"
   ]
  },
  {
   "cell_type": "code",
   "execution_count": 139,
   "metadata": {},
   "outputs": [
    {
     "data": {
      "text/plain": [
       "Edad                  6.501500\n",
       "Años Escolaridad      2.768690\n",
       "Paridad               0.987967\n",
       "Peso                556.377288\n",
       "APGAR 1               1.171073\n",
       "APGAR 2               0.814798\n",
       "APGAR 3               1.500000\n",
       "EGP                   1.968030\n",
       "Complicaciones        1.323140\n",
       "dtype: float64"
      ]
     },
     "execution_count": 139,
     "metadata": {},
     "output_type": "execute_result"
    }
   ],
   "source": [
    "# Desviación típica\n",
    "df.std()"
   ]
  },
  {
   "cell_type": "code",
   "execution_count": 140,
   "metadata": {},
   "outputs": [
    {
     "data": {
      "text/plain": [
       "Edad                  6.501500\n",
       "Años Escolaridad      2.768690\n",
       "Paridad               0.987967\n",
       "Peso                556.377288\n",
       "APGAR 1               1.171073\n",
       "APGAR 2               0.814798\n",
       "APGAR 3               1.500000\n",
       "EGP                   1.968030\n",
       "Complicaciones        1.323140\n",
       "dtype: float64"
      ]
     },
     "execution_count": 140,
     "metadata": {},
     "output_type": "execute_result"
    }
   ],
   "source": [
    "df.std(axis=0) # Desviación típica de cada columna"
   ]
  },
  {
   "cell_type": "code",
   "execution_count": 141,
   "metadata": {},
   "outputs": [
    {
     "data": {
      "text/plain": [
       "Edad                    42.269498\n",
       "Años Escolaridad         7.665645\n",
       "Paridad                  0.976078\n",
       "Peso                309555.686733\n",
       "APGAR 1                  1.371412\n",
       "APGAR 2                  0.663896\n",
       "APGAR 3                  2.250000\n",
       "EGP                      3.873140\n",
       "Complicaciones           1.750700\n",
       "dtype: float64"
      ]
     },
     "execution_count": 141,
     "metadata": {},
     "output_type": "execute_result"
    }
   ],
   "source": [
    "# varianza\n",
    "df.var()"
   ]
  },
  {
   "cell_type": "code",
   "execution_count": 142,
   "metadata": {},
   "outputs": [
    {
     "data": {
      "text/plain": [
       "Edad                    42.269498\n",
       "Años Escolaridad         7.665645\n",
       "Paridad                  0.976078\n",
       "Peso                309555.686733\n",
       "APGAR 1                  1.371412\n",
       "APGAR 2                  0.663896\n",
       "APGAR 3                  2.250000\n",
       "EGP                      3.873140\n",
       "Complicaciones           1.750700\n",
       "dtype: float64"
      ]
     },
     "execution_count": 142,
     "metadata": {},
     "output_type": "execute_result"
    }
   ],
   "source": [
    "df.var(axis=0) # Varianza de cada columna"
   ]
  },
  {
   "cell_type": "code",
   "execution_count": 143,
   "metadata": {},
   "outputs": [
    {
     "data": {
      "text/html": [
       "<div>\n",
       "<style scoped>\n",
       "    .dataframe tbody tr th:only-of-type {\n",
       "        vertical-align: middle;\n",
       "    }\n",
       "\n",
       "    .dataframe tbody tr th {\n",
       "        vertical-align: top;\n",
       "    }\n",
       "\n",
       "    .dataframe thead th {\n",
       "        text-align: right;\n",
       "    }\n",
       "</style>\n",
       "<table border=\"1\" class=\"dataframe\">\n",
       "  <thead>\n",
       "    <tr style=\"text-align: right;\">\n",
       "      <th></th>\n",
       "      <th>Edad</th>\n",
       "      <th>Años Escolaridad</th>\n",
       "      <th>Paridad</th>\n",
       "      <th>Peso</th>\n",
       "      <th>APGAR 1</th>\n",
       "      <th>APGAR 2</th>\n",
       "      <th>APGAR 3</th>\n",
       "      <th>EGP</th>\n",
       "      <th>Complicaciones</th>\n",
       "    </tr>\n",
       "  </thead>\n",
       "  <tbody>\n",
       "    <tr>\n",
       "      <th>Edad</th>\n",
       "      <td>1.000000</td>\n",
       "      <td>0.245135</td>\n",
       "      <td>0.548327</td>\n",
       "      <td>0.030515</td>\n",
       "      <td>-0.003007</td>\n",
       "      <td>-0.011026</td>\n",
       "      <td>-0.575758</td>\n",
       "      <td>-0.131471</td>\n",
       "      <td>0.122168</td>\n",
       "    </tr>\n",
       "    <tr>\n",
       "      <th>Años Escolaridad</th>\n",
       "      <td>0.245135</td>\n",
       "      <td>1.000000</td>\n",
       "      <td>-0.162031</td>\n",
       "      <td>-0.024222</td>\n",
       "      <td>0.062766</td>\n",
       "      <td>0.029384</td>\n",
       "      <td>-0.962250</td>\n",
       "      <td>-0.069670</td>\n",
       "      <td>0.066016</td>\n",
       "    </tr>\n",
       "    <tr>\n",
       "      <th>Paridad</th>\n",
       "      <td>0.548327</td>\n",
       "      <td>-0.162031</td>\n",
       "      <td>1.000000</td>\n",
       "      <td>0.104883</td>\n",
       "      <td>0.009030</td>\n",
       "      <td>0.004345</td>\n",
       "      <td>0.333333</td>\n",
       "      <td>-0.021669</td>\n",
       "      <td>-0.040809</td>\n",
       "    </tr>\n",
       "    <tr>\n",
       "      <th>Peso</th>\n",
       "      <td>0.030515</td>\n",
       "      <td>-0.024222</td>\n",
       "      <td>0.104883</td>\n",
       "      <td>1.000000</td>\n",
       "      <td>0.280415</td>\n",
       "      <td>0.304539</td>\n",
       "      <td>0.706204</td>\n",
       "      <td>0.684224</td>\n",
       "      <td>-0.267175</td>\n",
       "    </tr>\n",
       "    <tr>\n",
       "      <th>APGAR 1</th>\n",
       "      <td>-0.003007</td>\n",
       "      <td>0.062766</td>\n",
       "      <td>0.009030</td>\n",
       "      <td>0.280415</td>\n",
       "      <td>1.000000</td>\n",
       "      <td>0.780713</td>\n",
       "      <td>0.577350</td>\n",
       "      <td>0.407292</td>\n",
       "      <td>-0.235174</td>\n",
       "    </tr>\n",
       "    <tr>\n",
       "      <th>APGAR 2</th>\n",
       "      <td>-0.011026</td>\n",
       "      <td>0.029384</td>\n",
       "      <td>0.004345</td>\n",
       "      <td>0.304539</td>\n",
       "      <td>0.780713</td>\n",
       "      <td>1.000000</td>\n",
       "      <td>0.925820</td>\n",
       "      <td>0.433010</td>\n",
       "      <td>-0.168233</td>\n",
       "    </tr>\n",
       "    <tr>\n",
       "      <th>APGAR 3</th>\n",
       "      <td>-0.575758</td>\n",
       "      <td>-0.962250</td>\n",
       "      <td>0.333333</td>\n",
       "      <td>0.706204</td>\n",
       "      <td>0.577350</td>\n",
       "      <td>0.925820</td>\n",
       "      <td>1.000000</td>\n",
       "      <td>0.754305</td>\n",
       "      <td>-0.942809</td>\n",
       "    </tr>\n",
       "    <tr>\n",
       "      <th>EGP</th>\n",
       "      <td>-0.131471</td>\n",
       "      <td>-0.069670</td>\n",
       "      <td>-0.021669</td>\n",
       "      <td>0.684224</td>\n",
       "      <td>0.407292</td>\n",
       "      <td>0.433010</td>\n",
       "      <td>0.754305</td>\n",
       "      <td>1.000000</td>\n",
       "      <td>-0.336713</td>\n",
       "    </tr>\n",
       "    <tr>\n",
       "      <th>Complicaciones</th>\n",
       "      <td>0.122168</td>\n",
       "      <td>0.066016</td>\n",
       "      <td>-0.040809</td>\n",
       "      <td>-0.267175</td>\n",
       "      <td>-0.235174</td>\n",
       "      <td>-0.168233</td>\n",
       "      <td>-0.942809</td>\n",
       "      <td>-0.336713</td>\n",
       "      <td>1.000000</td>\n",
       "    </tr>\n",
       "  </tbody>\n",
       "</table>\n",
       "</div>"
      ],
      "text/plain": [
       "                      Edad  Años Escolaridad   Paridad      Peso   APGAR 1  \\\n",
       "Edad              1.000000          0.245135  0.548327  0.030515 -0.003007   \n",
       "Años Escolaridad  0.245135          1.000000 -0.162031 -0.024222  0.062766   \n",
       "Paridad           0.548327         -0.162031  1.000000  0.104883  0.009030   \n",
       "Peso              0.030515         -0.024222  0.104883  1.000000  0.280415   \n",
       "APGAR 1          -0.003007          0.062766  0.009030  0.280415  1.000000   \n",
       "APGAR 2          -0.011026          0.029384  0.004345  0.304539  0.780713   \n",
       "APGAR 3          -0.575758         -0.962250  0.333333  0.706204  0.577350   \n",
       "EGP              -0.131471         -0.069670 -0.021669  0.684224  0.407292   \n",
       "Complicaciones    0.122168          0.066016 -0.040809 -0.267175 -0.235174   \n",
       "\n",
       "                   APGAR 2   APGAR 3       EGP  Complicaciones  \n",
       "Edad             -0.011026 -0.575758 -0.131471        0.122168  \n",
       "Años Escolaridad  0.029384 -0.962250 -0.069670        0.066016  \n",
       "Paridad           0.004345  0.333333 -0.021669       -0.040809  \n",
       "Peso              0.304539  0.706204  0.684224       -0.267175  \n",
       "APGAR 1           0.780713  0.577350  0.407292       -0.235174  \n",
       "APGAR 2           1.000000  0.925820  0.433010       -0.168233  \n",
       "APGAR 3           0.925820  1.000000  0.754305       -0.942809  \n",
       "EGP               0.433010  0.754305  1.000000       -0.336713  \n",
       "Complicaciones   -0.168233 -0.942809 -0.336713        1.000000  "
      ]
     },
     "execution_count": 143,
     "metadata": {},
     "output_type": "execute_result"
    }
   ],
   "source": [
    "df.corr() #Correlación Pearson"
   ]
  },
  {
   "cell_type": "code",
   "execution_count": 144,
   "metadata": {},
   "outputs": [
    {
     "data": {
      "text/plain": [
       "0.2451350270488645"
      ]
     },
     "execution_count": 144,
     "metadata": {},
     "output_type": "execute_result"
    }
   ],
   "source": [
    "df['Edad'].corr(df['Años Escolaridad'])"
   ]
  },
  {
   "cell_type": "code",
   "execution_count": 145,
   "metadata": {},
   "outputs": [
    {
     "data": {
      "text/plain": [
       "0.5483266149199569"
      ]
     },
     "execution_count": 145,
     "metadata": {},
     "output_type": "execute_result"
    }
   ],
   "source": [
    "df['Edad'].corr(df['Paridad'])"
   ]
  },
  {
   "cell_type": "code",
   "execution_count": 146,
   "metadata": {},
   "outputs": [
    {
     "data": {
      "text/plain": [
       "0.030515367730822626"
      ]
     },
     "execution_count": 146,
     "metadata": {},
     "output_type": "execute_result"
    }
   ],
   "source": [
    "df['Edad'].corr(df['Peso'])   #A mayor edad de la madre, mayor peso de nacimiento del bebé"
   ]
  },
  {
   "cell_type": "code",
   "execution_count": 147,
   "metadata": {},
   "outputs": [
    {
     "data": {
      "text/plain": [
       "-0.13147141804030588"
      ]
     },
     "execution_count": 147,
     "metadata": {},
     "output_type": "execute_result"
    }
   ],
   "source": [
    "df['Edad'].corr(df['EGP'])    #A mayor edad de la madre, mayor edad gestacional referida\""
   ]
  },
  {
   "cell_type": "code",
   "execution_count": 148,
   "metadata": {},
   "outputs": [
    {
     "data": {
      "text/plain": [
       "-0.16203134192297192"
      ]
     },
     "execution_count": 148,
     "metadata": {},
     "output_type": "execute_result"
    }
   ],
   "source": [
    "df['Años Escolaridad'].corr(df['Paridad'])     #A mayor cantidad de años de escolaridad, mayor paridad"
   ]
  },
  {
   "cell_type": "code",
   "execution_count": 149,
   "metadata": {},
   "outputs": [
    {
     "data": {
      "text/plain": [
       "-0.02422227102807602"
      ]
     },
     "execution_count": 149,
     "metadata": {},
     "output_type": "execute_result"
    }
   ],
   "source": [
    "df['Años Escolaridad'].corr(df['Peso'])   #A mayor cantidad de años de escolaridad, mayor peso de nacimiento del bebé"
   ]
  },
  {
   "cell_type": "code",
   "execution_count": 150,
   "metadata": {},
   "outputs": [
    {
     "data": {
      "text/plain": [
       "-0.06966970890406914"
      ]
     },
     "execution_count": 150,
     "metadata": {},
     "output_type": "execute_result"
    }
   ],
   "source": [
    "df['Años Escolaridad'].corr(df['EGP'])       #A mayor cantidad de años de escolaridad, mayor edad gestacional referida\""
   ]
  },
  {
   "cell_type": "code",
   "execution_count": 151,
   "metadata": {},
   "outputs": [
    {
     "data": {
      "text/plain": [
       "0.12216782083734332"
      ]
     },
     "execution_count": 151,
     "metadata": {},
     "output_type": "execute_result"
    }
   ],
   "source": [
    "df['Edad'].corr(df['Complicaciones'])"
   ]
  },
  {
   "cell_type": "code",
   "execution_count": 152,
   "metadata": {},
   "outputs": [
    {
     "data": {
      "text/html": [
       "<div>\n",
       "<style scoped>\n",
       "    .dataframe tbody tr th:only-of-type {\n",
       "        vertical-align: middle;\n",
       "    }\n",
       "\n",
       "    .dataframe tbody tr th {\n",
       "        vertical-align: top;\n",
       "    }\n",
       "\n",
       "    .dataframe thead th {\n",
       "        text-align: right;\n",
       "    }\n",
       "</style>\n",
       "<table border=\"1\" class=\"dataframe\">\n",
       "  <thead>\n",
       "    <tr style=\"text-align: right;\">\n",
       "      <th></th>\n",
       "      <th>Edad</th>\n",
       "      <th>Años Escolaridad</th>\n",
       "      <th>Paridad</th>\n",
       "      <th>Peso</th>\n",
       "      <th>APGAR 1</th>\n",
       "      <th>APGAR 2</th>\n",
       "      <th>APGAR 3</th>\n",
       "      <th>EGP</th>\n",
       "      <th>Complicaciones</th>\n",
       "    </tr>\n",
       "  </thead>\n",
       "  <tbody>\n",
       "    <tr>\n",
       "      <th>Edad</th>\n",
       "      <td>42.269498</td>\n",
       "      <td>4.404690</td>\n",
       "      <td>3.511310</td>\n",
       "      <td>110.107089</td>\n",
       "      <td>-0.022885</td>\n",
       "      <td>-0.058399</td>\n",
       "      <td>-4.75</td>\n",
       "      <td>-1.678080</td>\n",
       "      <td>1.051425</td>\n",
       "    </tr>\n",
       "    <tr>\n",
       "      <th>Años Escolaridad</th>\n",
       "      <td>4.404690</td>\n",
       "      <td>7.665645</td>\n",
       "      <td>-0.442764</td>\n",
       "      <td>-37.328957</td>\n",
       "      <td>0.203180</td>\n",
       "      <td>0.066287</td>\n",
       "      <td>-2.50</td>\n",
       "      <td>-0.377238</td>\n",
       "      <td>0.241840</td>\n",
       "    </tr>\n",
       "    <tr>\n",
       "      <th>Paridad</th>\n",
       "      <td>3.511310</td>\n",
       "      <td>-0.442764</td>\n",
       "      <td>0.976078</td>\n",
       "      <td>57.644106</td>\n",
       "      <td>0.010335</td>\n",
       "      <td>0.003411</td>\n",
       "      <td>0.25</td>\n",
       "      <td>-0.041944</td>\n",
       "      <td>-0.053348</td>\n",
       "    </tr>\n",
       "    <tr>\n",
       "      <th>Peso</th>\n",
       "      <td>110.107089</td>\n",
       "      <td>-37.328957</td>\n",
       "      <td>57.644106</td>\n",
       "      <td>309555.686733</td>\n",
       "      <td>180.690893</td>\n",
       "      <td>134.551962</td>\n",
       "      <td>2000.00</td>\n",
       "      <td>746.219848</td>\n",
       "      <td>-196.713482</td>\n",
       "    </tr>\n",
       "    <tr>\n",
       "      <th>APGAR 1</th>\n",
       "      <td>-0.022885</td>\n",
       "      <td>0.203180</td>\n",
       "      <td>0.010335</td>\n",
       "      <td>180.690893</td>\n",
       "      <td>1.371412</td>\n",
       "      <td>0.745389</td>\n",
       "      <td>1.50</td>\n",
       "      <td>0.945197</td>\n",
       "      <td>-0.364495</td>\n",
       "    </tr>\n",
       "    <tr>\n",
       "      <th>APGAR 2</th>\n",
       "      <td>-0.058399</td>\n",
       "      <td>0.066287</td>\n",
       "      <td>0.003411</td>\n",
       "      <td>134.551962</td>\n",
       "      <td>0.745389</td>\n",
       "      <td>0.663896</td>\n",
       "      <td>3.00</td>\n",
       "      <td>0.699937</td>\n",
       "      <td>-0.181408</td>\n",
       "    </tr>\n",
       "    <tr>\n",
       "      <th>APGAR 3</th>\n",
       "      <td>-4.750000</td>\n",
       "      <td>-2.500000</td>\n",
       "      <td>0.250000</td>\n",
       "      <td>2000.000000</td>\n",
       "      <td>1.500000</td>\n",
       "      <td>3.000000</td>\n",
       "      <td>2.25</td>\n",
       "      <td>7.750000</td>\n",
       "      <td>-4.000000</td>\n",
       "    </tr>\n",
       "    <tr>\n",
       "      <th>EGP</th>\n",
       "      <td>-1.678080</td>\n",
       "      <td>-0.377238</td>\n",
       "      <td>-0.041944</td>\n",
       "      <td>746.219848</td>\n",
       "      <td>0.945197</td>\n",
       "      <td>0.699937</td>\n",
       "      <td>7.75</td>\n",
       "      <td>3.873140</td>\n",
       "      <td>-0.878397</td>\n",
       "    </tr>\n",
       "    <tr>\n",
       "      <th>Complicaciones</th>\n",
       "      <td>1.051425</td>\n",
       "      <td>0.241840</td>\n",
       "      <td>-0.053348</td>\n",
       "      <td>-196.713482</td>\n",
       "      <td>-0.364495</td>\n",
       "      <td>-0.181408</td>\n",
       "      <td>-4.00</td>\n",
       "      <td>-0.878397</td>\n",
       "      <td>1.750700</td>\n",
       "    </tr>\n",
       "  </tbody>\n",
       "</table>\n",
       "</div>"
      ],
      "text/plain": [
       "                        Edad  Años Escolaridad    Paridad           Peso  \\\n",
       "Edad               42.269498          4.404690   3.511310     110.107089   \n",
       "Años Escolaridad    4.404690          7.665645  -0.442764     -37.328957   \n",
       "Paridad             3.511310         -0.442764   0.976078      57.644106   \n",
       "Peso              110.107089        -37.328957  57.644106  309555.686733   \n",
       "APGAR 1            -0.022885          0.203180   0.010335     180.690893   \n",
       "APGAR 2            -0.058399          0.066287   0.003411     134.551962   \n",
       "APGAR 3            -4.750000         -2.500000   0.250000    2000.000000   \n",
       "EGP                -1.678080         -0.377238  -0.041944     746.219848   \n",
       "Complicaciones      1.051425          0.241840  -0.053348    -196.713482   \n",
       "\n",
       "                     APGAR 1     APGAR 2  APGAR 3         EGP  Complicaciones  \n",
       "Edad               -0.022885   -0.058399    -4.75   -1.678080        1.051425  \n",
       "Años Escolaridad    0.203180    0.066287    -2.50   -0.377238        0.241840  \n",
       "Paridad             0.010335    0.003411     0.25   -0.041944       -0.053348  \n",
       "Peso              180.690893  134.551962  2000.00  746.219848     -196.713482  \n",
       "APGAR 1             1.371412    0.745389     1.50    0.945197       -0.364495  \n",
       "APGAR 2             0.745389    0.663896     3.00    0.699937       -0.181408  \n",
       "APGAR 3             1.500000    3.000000     2.25    7.750000       -4.000000  \n",
       "EGP                 0.945197    0.699937     7.75    3.873140       -0.878397  \n",
       "Complicaciones     -0.364495   -0.181408    -4.00   -0.878397        1.750700  "
      ]
     },
     "execution_count": 152,
     "metadata": {},
     "output_type": "execute_result"
    }
   ],
   "source": [
    "df.cov()  #matriz de la covarianza"
   ]
  },
  {
   "cell_type": "code",
   "execution_count": 153,
   "metadata": {},
   "outputs": [
    {
     "data": {
      "text/html": [
       "<div>\n",
       "<style scoped>\n",
       "    .dataframe tbody tr th:only-of-type {\n",
       "        vertical-align: middle;\n",
       "    }\n",
       "\n",
       "    .dataframe tbody tr th {\n",
       "        vertical-align: top;\n",
       "    }\n",
       "\n",
       "    .dataframe thead th {\n",
       "        text-align: right;\n",
       "    }\n",
       "</style>\n",
       "<table border=\"1\" class=\"dataframe\">\n",
       "  <thead>\n",
       "    <tr style=\"text-align: right;\">\n",
       "      <th></th>\n",
       "      <th>Edad</th>\n",
       "      <th>Años Escolaridad</th>\n",
       "      <th>Paridad</th>\n",
       "      <th>Peso</th>\n",
       "      <th>APGAR 1</th>\n",
       "      <th>APGAR 2</th>\n",
       "      <th>APGAR 3</th>\n",
       "      <th>EGP</th>\n",
       "      <th>Complicaciones</th>\n",
       "    </tr>\n",
       "  </thead>\n",
       "  <tbody>\n",
       "    <tr>\n",
       "      <th>count</th>\n",
       "      <td>2311.000000</td>\n",
       "      <td>2316.000000</td>\n",
       "      <td>2313.000000</td>\n",
       "      <td>2314.000000</td>\n",
       "      <td>2310.000000</td>\n",
       "      <td>2309.000000</td>\n",
       "      <td>4.00</td>\n",
       "      <td>2282.00000</td>\n",
       "      <td>2316.000000</td>\n",
       "    </tr>\n",
       "    <tr>\n",
       "      <th>mean</th>\n",
       "      <td>26.806577</td>\n",
       "      <td>12.134715</td>\n",
       "      <td>0.904021</td>\n",
       "      <td>3280.329732</td>\n",
       "      <td>8.590476</td>\n",
       "      <td>8.886531</td>\n",
       "      <td>8.25</td>\n",
       "      <td>38.23532</td>\n",
       "      <td>1.606218</td>\n",
       "    </tr>\n",
       "    <tr>\n",
       "      <th>std</th>\n",
       "      <td>6.501500</td>\n",
       "      <td>2.768690</td>\n",
       "      <td>0.987967</td>\n",
       "      <td>556.377288</td>\n",
       "      <td>1.171073</td>\n",
       "      <td>0.814798</td>\n",
       "      <td>1.50</td>\n",
       "      <td>1.96803</td>\n",
       "      <td>1.323140</td>\n",
       "    </tr>\n",
       "    <tr>\n",
       "      <th>min</th>\n",
       "      <td>13.000000</td>\n",
       "      <td>3.000000</td>\n",
       "      <td>0.000000</td>\n",
       "      <td>500.000000</td>\n",
       "      <td>0.000000</td>\n",
       "      <td>0.000000</td>\n",
       "      <td>6.00</td>\n",
       "      <td>23.00000</td>\n",
       "      <td>0.000000</td>\n",
       "    </tr>\n",
       "    <tr>\n",
       "      <th>25%</th>\n",
       "      <td>22.000000</td>\n",
       "      <td>11.000000</td>\n",
       "      <td>0.000000</td>\n",
       "      <td>3015.000000</td>\n",
       "      <td>9.000000</td>\n",
       "      <td>9.000000</td>\n",
       "      <td>8.25</td>\n",
       "      <td>38.00000</td>\n",
       "      <td>1.000000</td>\n",
       "    </tr>\n",
       "    <tr>\n",
       "      <th>50%</th>\n",
       "      <td>26.000000</td>\n",
       "      <td>12.000000</td>\n",
       "      <td>1.000000</td>\n",
       "      <td>3330.000000</td>\n",
       "      <td>9.000000</td>\n",
       "      <td>9.000000</td>\n",
       "      <td>9.00</td>\n",
       "      <td>38.00000</td>\n",
       "      <td>1.000000</td>\n",
       "    </tr>\n",
       "    <tr>\n",
       "      <th>75%</th>\n",
       "      <td>31.000000</td>\n",
       "      <td>14.000000</td>\n",
       "      <td>1.000000</td>\n",
       "      <td>3630.000000</td>\n",
       "      <td>9.000000</td>\n",
       "      <td>9.000000</td>\n",
       "      <td>9.00</td>\n",
       "      <td>39.00000</td>\n",
       "      <td>2.000000</td>\n",
       "    </tr>\n",
       "    <tr>\n",
       "      <th>max</th>\n",
       "      <td>45.000000</td>\n",
       "      <td>22.000000</td>\n",
       "      <td>7.000000</td>\n",
       "      <td>5005.000000</td>\n",
       "      <td>9.000000</td>\n",
       "      <td>10.000000</td>\n",
       "      <td>9.00</td>\n",
       "      <td>41.00000</td>\n",
       "      <td>11.000000</td>\n",
       "    </tr>\n",
       "  </tbody>\n",
       "</table>\n",
       "</div>"
      ],
      "text/plain": [
       "              Edad  Años Escolaridad      Paridad         Peso      APGAR 1  \\\n",
       "count  2311.000000       2316.000000  2313.000000  2314.000000  2310.000000   \n",
       "mean     26.806577         12.134715     0.904021  3280.329732     8.590476   \n",
       "std       6.501500          2.768690     0.987967   556.377288     1.171073   \n",
       "min      13.000000          3.000000     0.000000   500.000000     0.000000   \n",
       "25%      22.000000         11.000000     0.000000  3015.000000     9.000000   \n",
       "50%      26.000000         12.000000     1.000000  3330.000000     9.000000   \n",
       "75%      31.000000         14.000000     1.000000  3630.000000     9.000000   \n",
       "max      45.000000         22.000000     7.000000  5005.000000     9.000000   \n",
       "\n",
       "           APGAR 2  APGAR 3         EGP  Complicaciones  \n",
       "count  2309.000000     4.00  2282.00000     2316.000000  \n",
       "mean      8.886531     8.25    38.23532        1.606218  \n",
       "std       0.814798     1.50     1.96803        1.323140  \n",
       "min       0.000000     6.00    23.00000        0.000000  \n",
       "25%       9.000000     8.25    38.00000        1.000000  \n",
       "50%       9.000000     9.00    38.00000        1.000000  \n",
       "75%       9.000000     9.00    39.00000        2.000000  \n",
       "max      10.000000     9.00    41.00000       11.000000  "
      ]
     },
     "execution_count": 153,
     "metadata": {},
     "output_type": "execute_result"
    }
   ],
   "source": [
    "df.describe()  #Resumen estadístico"
   ]
  },
  {
   "cell_type": "code",
   "execution_count": 154,
   "metadata": {},
   "outputs": [],
   "source": [
    "import seaborn as sns # importando seaborn\n",
    "import matplotlib.pyplot as plt# importando matplotlib\n"
   ]
  },
  {
   "cell_type": "code",
   "execution_count": 155,
   "metadata": {},
   "outputs": [],
   "source": [
    "sns.set_palette(\"deep\", desat=.6)\n",
    "sns.set_context(rc={\"figure.figsize\": (8, 4)})"
   ]
  },
  {
   "cell_type": "code",
   "execution_count": 156,
   "metadata": {},
   "outputs": [],
   "source": [
    "mu, sigma = 0, 0.1 # media y desvio estandar\n",
    "s = np.random.normal(mu, sigma, 1000) #creando muestra de datos"
   ]
  },
  {
   "cell_type": "code",
   "execution_count": 157,
   "metadata": {},
   "outputs": [
    {
     "name": "stderr",
     "output_type": "stream",
     "text": [
      "C:\\Users\\Aly\\anaconda3\\lib\\site-packages\\ipykernel_launcher.py:2: MatplotlibDeprecationWarning: \n",
      "The 'normed' kwarg was deprecated in Matplotlib 2.1 and will be removed in 3.1. Use 'density' instead.\n",
      "  \n"
     ]
    },
    {
     "data": {
      "image/png": "[encoded data removed]",
      "text/plain": [
       "<Figure size 432x288 with 1 Axes>"
      ]
     },
     "metadata": {
      "needs_background": "light"
     },
     "output_type": "display_data"
    }
   ],
   "source": [
    "# histograma de distribución normal.\n",
    "cuenta, cajas, ignorar = plt.hist(s, 30, normed=True)\n",
    "normal = plt.plot(cajas, 1/(sigma * np.sqrt(2 * np.pi)) *\n",
    "         np.exp( - (cajas - mu)**2 / (2 * sigma**2) ),\n",
    "         linewidth=2, color='r')"
   ]
  },
  {
   "cell_type": "code",
   "execution_count": 158,
   "metadata": {},
   "outputs": [
    {
     "data": {
      "image/png": "[encoded data removed]",
      "text/plain": [
       "<Figure size 432x288 with 1 Axes>"
      ]
     },
     "metadata": {
      "needs_background": "light"
     },
     "output_type": "display_data"
    }
   ],
   "source": [
    "\n",
    "# Dibujando la distribucion Gamma\n",
    "x = stats.gamma(3).rvs(5000)\n",
    "gamma = plt.hist(x, 70, histtype=\"stepfilled\", alpha=.7)"
   ]
  },
  {
   "cell_type": "code",
   "execution_count": 159,
   "metadata": {},
   "outputs": [
    {
     "data": {
      "text/plain": [
       "1.1832727780787957"
      ]
     },
     "execution_count": 159,
     "metadata": {},
     "output_type": "execute_result"
    }
   ],
   "source": [
    "# Calculando la simetria con scipy\n",
    "stats.skew(x)    #Distribución gamma con simetría positiva"
   ]
  },
  {
   "cell_type": "code",
   "execution_count": 160,
   "metadata": {},
   "outputs": [
    {
     "data": {
      "image/png": "[encoded data removed]",
      "text/plain": [
       "<Figure size 648x432 with 1 Axes>"
      ]
     },
     "metadata": {
      "needs_background": "light"
     },
     "output_type": "display_data"
    }
   ],
   "source": [
    "# Ejemplo de grafico de cajas en python\n",
    "\n",
    "datos_1 = np.random.normal(100, 10, 200)\n",
    "datos_2 = np.random.normal(80, 30, 200)\n",
    "datos_3 = np.random.normal(90, 20, 200)\n",
    "datos_4 = np.random.normal(70, 25, 200)\n",
    "\n",
    "datos_graf = [datos_1, datos_2, datos_3, datos_4]\n",
    "\n",
    "# Creando el objeto figura\n",
    "fig = plt.figure(1, figsize=(9, 6))\n",
    "\n",
    "# Creando el subgrafico\n",
    "ax = fig.add_subplot(111)\n",
    "\n",
    "# creando el grafico de cajas\n",
    "bp = ax.boxplot(datos_graf)\n",
    "\n",
    "# visualizar mas facile los atípicos\n",
    "for flier in bp['fliers']:\n",
    "    flier.set(marker='o', color='pink', alpha=0.5)\n",
    "# los puntos aislados son valores atípicos"
   ]
  },
  {
   "cell_type": "code",
   "execution_count": 161,
   "metadata": {},
   "outputs": [
    {
     "data": {
      "image/png": "[encoded data removed]",
      "text/plain": [
       "<Figure size 432x288 with 10 Axes>"
      ]
     },
     "metadata": {
      "needs_background": "light"
     },
     "output_type": "display_data"
    }
   ],
   "source": [
    "\n",
    "sns.set_context(rc={\"figure.figsize\": (40, 40)})\n",
    "\n",
    "dist = stats.beta\n",
    "n_trials = [0, 1, 2, 3, 4, 5, 8, 15, 50, 500]\n",
    "data = stats.bernoulli.rvs(0.5, size=n_trials[-1])\n",
    "x = np.linspace(0, 1, 100)\n",
    "\n",
    "for k, N in enumerate(n_trials):\n",
    "    sx = plt.subplot(len(n_trials) / 2, 2, k + 1)\n",
    "    plt.xlabel(\"$p$, probabilidad de cara\") \\\n",
    "        if k in [0, len(n_trials) - 1] else None\n",
    "    plt.setp(sx.get_yticklabels(), visible=False)\n",
    "    heads = data[:N].sum()\n",
    "    y = dist.pdf(x, 1 + heads, 1 + N - heads)\n",
    "    plt.plot(x, y, label=\"lanzamientos observados %d,\\n %d caras\" % (N, heads))\n",
    "    plt.fill_between(x, 0, y, color=\"#348ABD\", alpha=0.4)\n",
    "    plt.vlines(0.5, 0, 4, color=\"k\", linestyles=\"--\", lw=1)\n",
    "\n",
    "    leg = plt.legend()\n",
    "    leg.get_frame().set_alpha(0.4)\n",
    "    plt.autoscale(tight=True)\n",
    "\n",
    "plt.suptitle(\"Actualizacion Bayesiana de probabilidades posterios\",\n",
    "             y=1.3,\n",
    "             fontsize=8)\n",
    "\n",
    "plt.tight_layout()"
   ]
  },
  {
   "cell_type": "code",
   "execution_count": null,
   "metadata": {},
   "outputs": [],
   "source": [
    "sns.pairplot(df, hue='Edad')"
   ]
  },
  {
   "cell_type": "code",
   "execution_count": null,
   "metadata": {},
   "outputs": [],
   "source": []
  }
 ],
 "metadata": {
  "kernelspec": {
   "display_name": "Python 3",
   "language": "python",
   "name": "python3"
  },
  "language_info": {
   "codemirror_mode": {
    "name": "ipython",
    "version": 3
   },
   "file_extension": ".py",
   "mimetype": "text/x-python",
   "name": "python",
   "nbconvert_exporter": "python",
   "pygments_lexer": "ipython3",
   "version": "3.7.7"
  }
 },
 "nbformat": 4,
 "nbformat_minor": 4
}
